{
 "cells": [
  {
   "cell_type": "markdown",
   "metadata": {},
   "source": [
    "**Выполнил**: Копин Борис\n",
    "\n",
    "**Затрачено времени**: 1ч 05м"
   ]
  },
  {
   "cell_type": "markdown",
   "metadata": {},
   "source": [
    "# Part 1"
   ]
  },
  {
   "cell_type": "markdown",
   "metadata": {
    "collapsed": true
   },
   "source": [
    "### Test 1\n",
    "в одну строку на Python записать код подсчёта количества \"счастливых\" билетов с номерами из четырёх десятичных цифр \"счастливый билет\" это у которого сумма в данном случае двух первых цифр равна сумме двух последних цифр"
   ]
  },
  {
   "cell_type": "code",
   "execution_count": 37,
   "metadata": {
    "collapsed": false
   },
   "outputs": [
    {
     "data": {
      "text/plain": [
       "670"
      ]
     },
     "execution_count": 37,
     "metadata": {},
     "output_type": "execute_result"
    }
   ],
   "source": [
    "sum(int(a) + int(b) == int(c) + int(d) for a, b, c, d in ('{0:04d}'.format(i) for i in range(10000)))"
   ]
  },
  {
   "cell_type": "markdown",
   "metadata": {},
   "source": [
    " "
   ]
  },
  {
   "cell_type": "code",
   "execution_count": 38,
   "metadata": {
    "collapsed": false
   },
   "outputs": [
    {
     "data": {
      "text/plain": [
       "['0000',\n",
       " '0101',\n",
       " '0110',\n",
       " '0202',\n",
       " '0211',\n",
       " '0220',\n",
       " '0303',\n",
       " '0312',\n",
       " '0321',\n",
       " '0330']"
      ]
     },
     "execution_count": 38,
     "metadata": {},
     "output_type": "execute_result"
    }
   ],
   "source": [
    "list(a+b+c+d for a, b, c, d in ('{0:04d}'.format(i) for i in range(10000)) if int(a) + int(b) == int(c) + int(d))[:10]"
   ]
  },
  {
   "cell_type": "markdown",
   "metadata": {},
   "source": [
    " "
   ]
  },
  {
   "cell_type": "markdown",
   "metadata": {},
   "source": [
    "# Part 2"
   ]
  },
  {
   "cell_type": "code",
   "execution_count": 39,
   "metadata": {
    "collapsed": true
   },
   "outputs": [],
   "source": [
    "import pandas as pd\n",
    "import matplotlib.pyplot as plt"
   ]
  },
  {
   "cell_type": "code",
   "execution_count": 40,
   "metadata": {
    "collapsed": true
   },
   "outputs": [],
   "source": [
    "%matplotlib inline"
   ]
  },
  {
   "cell_type": "markdown",
   "metadata": {},
   "source": [
    " "
   ]
  },
  {
   "cell_type": "code",
   "execution_count": 41,
   "metadata": {
    "collapsed": false,
    "scrolled": true
   },
   "outputs": [
    {
     "data": {
      "text/html": [
       "<div>\n",
       "<table border=\"1\" class=\"dataframe\">\n",
       "  <thead>\n",
       "    <tr style=\"text-align: right;\">\n",
       "      <th></th>\n",
       "      <th>user</th>\n",
       "      <th>ts</th>\n",
       "      <th>score_diff</th>\n",
       "      <th>event</th>\n",
       "    </tr>\n",
       "  </thead>\n",
       "  <tbody>\n",
       "    <tr>\n",
       "      <th>0</th>\n",
       "      <td>user_0</td>\n",
       "      <td>2016-07-02 08:36:46.019558</td>\n",
       "      <td>0</td>\n",
       "      <td>view_category</td>\n",
       "    </tr>\n",
       "    <tr>\n",
       "      <th>1</th>\n",
       "      <td>user_3</td>\n",
       "      <td>2016-07-05 19:18:49.966119</td>\n",
       "      <td>2</td>\n",
       "      <td>view_item</td>\n",
       "    </tr>\n",
       "    <tr>\n",
       "      <th>2</th>\n",
       "      <td>user_0</td>\n",
       "      <td>2016-07-05 03:31:17.310296</td>\n",
       "      <td>2</td>\n",
       "      <td>buy</td>\n",
       "    </tr>\n",
       "    <tr>\n",
       "      <th>3</th>\n",
       "      <td>user_5</td>\n",
       "      <td>2016-07-03 16:20:23.389334</td>\n",
       "      <td>0</td>\n",
       "      <td>view_category</td>\n",
       "    </tr>\n",
       "    <tr>\n",
       "      <th>4</th>\n",
       "      <td>user_4</td>\n",
       "      <td>2016-07-04 17:19:12.063729</td>\n",
       "      <td>1</td>\n",
       "      <td>login</td>\n",
       "    </tr>\n",
       "  </tbody>\n",
       "</table>\n",
       "</div>"
      ],
      "text/plain": [
       "     user                          ts  score_diff          event\n",
       "0  user_0  2016-07-02 08:36:46.019558           0  view_category\n",
       "1  user_3  2016-07-05 19:18:49.966119           2      view_item\n",
       "2  user_0  2016-07-05 03:31:17.310296           2            buy\n",
       "3  user_5  2016-07-03 16:20:23.389334           0  view_category\n",
       "4  user_4  2016-07-04 17:19:12.063729           1          login"
      ]
     },
     "execution_count": 41,
     "metadata": {},
     "output_type": "execute_result"
    }
   ],
   "source": [
    "df = pd.read_csv(\"data.csv\")\n",
    "df.head()"
   ]
  },
  {
   "cell_type": "markdown",
   "metadata": {
    "collapsed": false
   },
   "source": [
    " "
   ]
  },
  {
   "cell_type": "code",
   "execution_count": 42,
   "metadata": {
    "collapsed": false
   },
   "outputs": [],
   "source": [
    "df.ts = pd.to_datetime(df.ts)\n",
    "df.set_index('ts', inplace=True)\n",
    "df.sort_index(inplace=True)"
   ]
  },
  {
   "cell_type": "markdown",
   "metadata": {},
   "source": [
    " "
   ]
  },
  {
   "cell_type": "markdown",
   "metadata": {},
   "source": [
    "### Test 2"
   ]
  },
  {
   "cell_type": "code",
   "execution_count": 44,
   "metadata": {
    "collapsed": true
   },
   "outputs": [],
   "source": [
    "# Начертить куммулятивную сумму score от времени для каждого пользователя user_X на одном графике\n",
    "# пользоваться seaborn или matplotlib\n",
    "# поместить график inline в notebook"
   ]
  },
  {
   "cell_type": "code",
   "execution_count": 45,
   "metadata": {
    "collapsed": false,
    "scrolled": false
   },
   "outputs": [
    {
     "data": {
      "image/png": "[encoded data removed]",
      "text/plain": [
       "<matplotlib.figure.Figure at 0x10c6a0e50>"
      ]
     },
     "metadata": {},
     "output_type": "display_data"
    }
   ],
   "source": [
    "plt.figure(figsize=(15, 10))\n",
    "for user_name, idx in df.groupby(\"user\").groups.iteritems():\n",
    "    df.loc[idx].score_diff.cumsum().plot(title='Score diff cumulative sum',\n",
    "                                         label=user_name,\n",
    "                                         legend=True,\n",
    "                                         grid=True)"
   ]
  },
  {
   "cell_type": "markdown",
   "metadata": {},
   "source": [
    "### Test 3"
   ]
  },
  {
   "cell_type": "code",
   "execution_count": 46,
   "metadata": {
    "collapsed": true
   },
   "outputs": [],
   "source": [
    "# Построить датасет из исходного с дополнительными признаками:\n",
    "# events_before_this -- количество записей для данного пользователя в исходном датасете до (по времени) данной записи \n",
    "# events_after_this -- количество записей для данного пользователя в исходном датасете после данной записи \n",
    "# converted -- 1 если событие buy уже произошло (по времени раньше времени данной записи), 0 -- если не произошло\n",
    "# will_convert -- 1 если событие buy произойдёт позже (т.е. ещё встретится в датасете), 0 -- если не встретится больше\n",
    "#"
   ]
  },
  {
   "cell_type": "code",
   "execution_count": 47,
   "metadata": {
    "collapsed": false
   },
   "outputs": [],
   "source": [
    "import numpy as np\n",
    "import datetime as dt"
   ]
  },
  {
   "cell_type": "code",
   "execution_count": null,
   "metadata": {
    "collapsed": true
   },
   "outputs": [],
   "source": []
  },
  {
   "cell_type": "markdown",
   "metadata": {},
   "source": [
    "# By Feedforward"
   ]
  },
  {
   "cell_type": "code",
   "execution_count": 48,
   "metadata": {
    "collapsed": true
   },
   "outputs": [],
   "source": [
    "def compute_cumulative_features(frame):\n",
    "    state = {\n",
    "        \"user\": '',\n",
    "        \"events_before_this\": 0,\n",
    "        \"is_buy_appeared\": False,\n",
    "    }\n",
    "    \n",
    "    features = []\n",
    "    for _, row in frame.iterrows():\n",
    "        if state[\"user\"] != row[\"user\"]:\n",
    "            state[\"user\"] = row[\"user\"]\n",
    "            state[\"events_before_this\"] = -1\n",
    "            state[\"is_buy_appeared\"] = False\n",
    "            \n",
    "        state[\"events_before_this\"] += 1\n",
    "\n",
    "        features.append((state[\"events_before_this\"], state[\"is_buy_appeared\"]))\n",
    "        \n",
    "        if row[\"event\"] == \"buy\" and not state[\"is_buy_appeared\"]:\n",
    "            state[\"is_buy_appeared\"] = True\n",
    "\n",
    "    return features\n",
    "\n",
    "\n",
    "def compute_by_feedforward(frame):\n",
    "    ascending_features = compute_cumulative_features(frame)\n",
    "    ascending_features_df = pd.DataFrame(ascending_features,\n",
    "                                         columns=[\"events_before_this\", \"converted\"])\n",
    "\n",
    "    descending_features = compute_cumulative_features(frame[::-1])\n",
    "    descending_features_df = pd.DataFrame(descending_features[::-1],\n",
    "                                          columns=[\"events_after_this\", \"will_convert\"])\n",
    "\n",
    "    result = pd.concat([frame, ascending_features_df, descending_features_df], axis=1)"
   ]
  },
  {
   "cell_type": "code",
   "execution_count": null,
   "metadata": {
    "collapsed": true
   },
   "outputs": [],
   "source": []
  },
  {
   "cell_type": "markdown",
   "metadata": {},
   "source": [
    "# By Groupby"
   ]
  },
  {
   "cell_type": "code",
   "execution_count": 49,
   "metadata": {
    "collapsed": true
   },
   "outputs": [],
   "source": [
    "def feature_extraction(group):\n",
    "    group[\"events_before_this\"] = range(len(group))\n",
    "    group[\"events_after_this\"] = range(len(group))[::-1]\n",
    "    \n",
    "    buy_event_cumsum = (group[\"event\"] == \"buy\").cumsum()\n",
    "    group[\"converted\"] = [False] + buy_event_cumsum.astype(bool).tolist()[:-1]\n",
    "    group[\"will_convert\"] = (buy_event_cumsum.max() - buy_event_cumsum).astype(bool)\n",
    "    \n",
    "    return group\n",
    "\n",
    "def compute_by_groupby(frame):\n",
    "    new_frame = frame.groupby(\"user\").apply(feature_extraction)\n",
    "    return new_frame"
   ]
  },
  {
   "cell_type": "code",
   "execution_count": null,
   "metadata": {
    "collapsed": true
   },
   "outputs": [],
   "source": []
  },
  {
   "cell_type": "markdown",
   "metadata": {},
   "source": [
    "# Testing"
   ]
  },
  {
   "cell_type": "code",
   "execution_count": 50,
   "metadata": {
    "collapsed": true
   },
   "outputs": [],
   "source": [
    "def generate_new_df(initial_df, samples=100000):\n",
    "    gen_df = initial_df.sample(n=samples, replace=True)\n",
    "    gen_df.loc[:, \"ts\"] = gen_df[\"ts\"].apply(\n",
    "        lambda t: t + dt.timedelta(minutes=np.random.randint(-100, 100),\n",
    "                                   seconds=np.random.randint(-1000, 1000))\n",
    "    )\n",
    "    gen_df.loc[:, \"user\"] = gen_df[\"user\"].apply(lambda x: \"user_%d\" % np.random.randint(samples / 40))\n",
    "\n",
    "    gen_df = gen_df.sort_values(['user', 'ts'], ascending=[True, True], kind=\"heapsort\")\n",
    "    gen_df = gen_df.reset_index(drop=True)\n",
    "    \n",
    "    return gen_df"
   ]
  },
  {
   "cell_type": "code",
   "execution_count": 51,
   "metadata": {
    "collapsed": true
   },
   "outputs": [],
   "source": [
    "initial_df = df.reset_index(drop=False)\\\n",
    "               .sort_values(['user', 'ts'], ascending=[True, True], kind=\"heapsort\")\\\n",
    "               .reset_index(drop=True)"
   ]
  },
  {
   "cell_type": "code",
   "execution_count": 52,
   "metadata": {
    "collapsed": true
   },
   "outputs": [],
   "source": [
    "small_df = initial_df\n",
    "big_df = generate_new_df(initial_df, samples=100000)"
   ]
  },
  {
   "cell_type": "code",
   "execution_count": 53,
   "metadata": {
    "collapsed": false,
    "scrolled": false
   },
   "outputs": [
    {
     "name": "stdout",
     "output_type": "stream",
     "text": [
      "10 loops, best of 5: 21.4 ms per loop\n"
     ]
    }
   ],
   "source": [
    "%timeit -r5 result = compute_by_groupby(small_df);"
   ]
  },
  {
   "cell_type": "code",
   "execution_count": 54,
   "metadata": {
    "collapsed": false
   },
   "outputs": [
    {
     "name": "stdout",
     "output_type": "stream",
     "text": [
      "10 loops, best of 5: 41.3 ms per loop\n"
     ]
    }
   ],
   "source": [
    "%timeit -r5 result = compute_by_feedforward(small_df);"
   ]
  },
  {
   "cell_type": "code",
   "execution_count": null,
   "metadata": {
    "collapsed": false
   },
   "outputs": [],
   "source": []
  },
  {
   "cell_type": "code",
   "execution_count": 55,
   "metadata": {
    "collapsed": false
   },
   "outputs": [
    {
     "name": "stdout",
     "output_type": "stream",
     "text": [
      "1 loops, best of 5: 7.1 s per loop\n"
     ]
    }
   ],
   "source": [
    "%timeit -r5 result = compute_by_groupby(big_df);"
   ]
  },
  {
   "cell_type": "code",
   "execution_count": 56,
   "metadata": {
    "collapsed": false
   },
   "outputs": [
    {
     "name": "stdout",
     "output_type": "stream",
     "text": [
      "1 loops, best of 5: 20.1 s per loop\n"
     ]
    }
   ],
   "source": [
    "%timeit -r5 result = compute_by_feedforward(big_df);"
   ]
  },
  {
   "cell_type": "code",
   "execution_count": null,
   "metadata": {
    "collapsed": true
   },
   "outputs": [],
   "source": []
  }
 ],
 "metadata": {
  "kernelspec": {
   "display_name": "Python 2",
   "language": "python",
   "name": "python2"
  },
  "language_info": {
   "codemirror_mode": {
    "name": "ipython",
    "version": 2
   },
   "file_extension": ".py",
   "mimetype": "text/x-python",
   "name": "python",
   "nbconvert_exporter": "python",
   "pygments_lexer": "ipython2",
   "version": "2.7.10"
  }
 },
 "nbformat": 4,
 "nbformat_minor": 0
}
